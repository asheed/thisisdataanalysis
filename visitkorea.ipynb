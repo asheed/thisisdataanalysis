{
 "cells": [
  {
   "cell_type": "code",
   "execution_count": 24,
   "metadata": {
    "collapsed": true,
    "pycharm": {
     "is_executing": false
    }
   },
   "outputs": [],
   "source": [
    "# 스텝 0. 필요한 모듈과 라이브러리를 로딩하고 검색어를 설정합니다.\n",
    "from bs4 import BeautifulSoup\n",
    "from selenium import webdriver\n",
    "from selenium.webdriver.common.by import By\n",
    "from selenium.webdriver.support.ui import WebDriverWait\n",
    "from selenium.webdriver.support import expected_conditions as EC\n",
    "import time\n",
    "\n",
    "query_txt = input('크롤링 키워드를 입력하세요:')"
   ]
  },
  {
   "cell_type": "code",
   "execution_count": 25,
   "outputs": [],
   "source": [
    "# 스텝 1. 크롬 드라이버를 사용하여 웹 브라우저를 실행합니다.\n",
    "path = \"E:/DevTools/chromedriver_win32/chromedriver.exe\"\n",
    "driver = webdriver.Chrome(path)\n",
    "# driver.implicitly_wait(5) # 암시적(implicitly) 대기\n",
    "driver.get(\"https://korean.visitkorea.or.kr/main/main.do\")\n",
    "\n",
    "wait = WebDriverWait(driver, 10) # 기본 대기 시간을 10초로 설정\n",
    "# xpath가 '//*[@id=\"safetyStay1\"]/div/button' 인 요소를 클릭할 수 있을때 까지 대기 (코로나 관련 팝업)\n",
    "element = wait.until(EC.element_to_be_clickable((By.XPATH, '//*[@id=\"safetyStay1\"]/div/button')))\n",
    "element.click() # 해당 요소가 나타나면 클릭합니다.\n",
    "# driver.find_element_by_class_name(\"btn_close3\").click()\n",
    "# driver.find_element_by_xpath('//*[@id=\"safetyStay1\"]/div/button').click()\n",
    "\n",
    "# 스텝 2. 검색버튼을 찾아서 클릭합니다.\n",
    "driver.find_element_by_id(\"btnSearch\").click()\n",
    "\n",
    "# 스텝 3. 검색창에 검색어를 입력합니다.\n",
    "element = driver.find_element_by_id(\"inp_search\")\n",
    "element.send_keys(query_txt)\n",
    "\n",
    "# 스텝 4. 검색버튼을 눌러 실행합니다.\n",
    "driver.find_element_by_link_text(\"검색\").click()\n"
   ],
   "metadata": {
    "collapsed": false,
    "pycharm": {
     "name": "#%%\n",
     "is_executing": false
    }
   }
  },
  {
   "cell_type": "code",
   "execution_count": 26,
   "outputs": [
    {
     "name": "stdout",
     "text": [
      "<li class=\"bdr_nor\"><div class=\"photo\"><a href=\"javascript:\" onclick='goDetail(\"304\",\"98dddf4d-2fd7-4db8-adc2-3a45fcfd88b7\")'><img alt=\"봄바람 따라 살랑살랑 통영 1박2일 여행코스\" src=\"https://support.visitkorea.or.kr/img/call?cmd=VIEW&amp;id=877a53fb-c4f5-47ec-9715-4cd628751d6d\"/></a></div><div class=\"area_txt\"> <div class=\"tit\"> <a href=\"javascript:\" onclick='goDetail(\"304\",\"98dddf4d-2fd7-4db8-adc2-3a45fcfd88b7\")'><!--HS-->봄<!--HE-->바람 따라 살랑살랑 통영 1박2일 <!--HS-->여행<!--HE-->코스</a> </div> <p>경상남도 통영시</p> <p class=\"tag\"><span>#통영</span><span>#통영1박2일코스</span><span>#통영가볼만한곳</span><span>#장사도해상공원</span><span>#박경리기념관</span><span>#미래사</span><span>#서피랑</span><span>#봄여행</span><span>#봄여행지</span><span>#봄여행지추천</span><span>#취향따라_떠나는_특별한_보통날</span><span>#봄여행주간</span> </p></div><button class=\"btn_view\" title=\"내용 더보기\" type=\"button\">더보기</button><div class=\"pop_subMenu\"> <ul> <li class=\"btn_far\"><a href=\"javascript:\" onclick='setFavoContent(\"98dddf4d-2fd7-4db8-adc2-3a45fcfd88b7\")'>즐겨찾기</a></li> <li class=\"btn_share\" id=\"98dddf4d-2fd7-4db8-adc2-3a45fcfd88b7\"><a href=\"javascript:\" onclick='getShareInfo(\"%3C!HS%3E%EB%B4%84%3C!HE%3E%EB%B0%94%EB%9E%8C%20%EB%94%B0%EB%9D%BC%20%EC%82%B4%EB%9E%91%EC%82%B4%EB%9E%91%20%ED%86%B5%EC%98%81%201%EB%B0%952%EC%9D%BC%20%3C!HS%3E%EC%97%AC%ED%96%89%3C!HE%3E%EC%BD%94%EC%8A%A4\",\"877a53fb-c4f5-47ec-9715-4cd628751d6d\",\"98dddf4d-2fd7-4db8-adc2-3a45fcfd88b7\",\"304\");'>공유하기</a></li> </ul></div></li>\n봄바람 따라 살랑살랑 통영 1박2일 여행코스  경상남도 통영시 #통영#통영1박2일코스#통영가볼만한곳#장사도해상공원#박경리기념관#미래사#서피랑#봄여행#봄여행지#봄여행지추천#취향따라_떠나는_특별한_보통날#봄여행주간 더보기  즐겨찾기 공유하기\n\n\n<li class=\"bdr_nor\"><div class=\"photo\"><a href=\"javascript:\" onclick='goDetail(\"304\",\"295c1f7d-b11a-4880-8b04-7f3fb15379a2\")'><img alt=\"세계자연유산(UNESCO)의 봄을 느끼며, 제주도 동부 여행\" src=\"https://support.visitkorea.or.kr/img/call?cmd=VIEW&amp;id=3c06b358-5a49-4c21-9fef-dc5ce666cc67\"/></a></div><div class=\"area_txt\"> <div class=\"tit\"> <a href=\"javascript:\" onclick='goDetail(\"304\",\"295c1f7d-b11a-4880-8b04-7f3fb15379a2\")'>세계자연유산(UNESCO)의 <!--HS-->봄<!--HE-->을 느끼며, 제주도 동부 <!--HS-->여행<!--HE--></a> </div> <p>제주도 </p> <p class=\"tag\"><span>#장애인추천코스</span><span>#제주가볼만한곳</span><span>#제주당일코스</span><span>#제주민속촌</span><span>#제주올레길</span><span>#제주해녀박물관</span><span>#김녕어울림센터</span><span>#월정리해변</span><span>#제주돌문화공원</span><span>#절물자연휴양림</span><span>#메이즈랜드</span><span>#두맹이골목</span><span>#제주1박2일코스</span><span>#제주2박3일코스</span><span>#무장애여행지</span><span>#장애인추천여행지</span><span>#풍경여행</span><span>#성산포JC공원</span><span>#유채꽃</span><span>#오디오가이드</span><span>#청굴물</span><span>#제주돌박물관</span><span>#삼울길</span><span>#제주맛집</span><span>#봄!_가족과_함께</span><span>#인증샷투어</span><span>#공공누리</span> </p></div><button class=\"btn_view\" title=\"내용 더보기\" type=\"button\">더보기</button><div class=\"pop_subMenu\"> <ul> <li class=\"btn_far\"><a href=\"javascript:\" onclick='setFavoContent(\"295c1f7d-b11a-4880-8b04-7f3fb15379a2\")'>즐겨찾기</a></li> <li class=\"btn_share\" id=\"295c1f7d-b11a-4880-8b04-7f3fb15379a2\"><a href=\"javascript:\" onclick='getShareInfo(\"%EC%84%B8%EA%B3%84%EC%9E%90%EC%97%B0%EC%9C%A0%EC%82%B0(UNESCO)%EC%9D%98%20%3C!HS%3E%EB%B4%84%3C!HE%3E%EC%9D%84%20%EB%8A%90%EB%81%BC%EB%A9%B0%2C%20%EC%A0%9C%EC%A3%BC%EB%8F%84%20%EB%8F%99%EB%B6%80%20%3C!HS%3E%EC%97%AC%ED%96%89%3C!HE%3E\",\"3c06b358-5a49-4c21-9fef-dc5ce666cc67\",\"295c1f7d-b11a-4880-8b04-7f3fb15379a2\",\"304\");'>공유하기</a></li> </ul></div></li>\n세계자연유산(UNESCO)의 봄을 느끼며, 제주도 동부 여행  제주도  #장애인추천코스#제주가볼만한곳#제주당일코스#제주민속촌#제주올레길#제주해녀박물관#김녕어울림센터#월정리해변#제주돌문화공원#절물자연휴양림#메이즈랜드#두맹이골목#제주1박2일코스#제주2박3일코스#무장애여행지#장애인추천여행지#풍경여행#성산포JC공원#유채꽃#오디오가이드#청굴물#제주돌박물관#삼울길#제주맛집#봄!_가족과_함께#인증샷투어#공공누리 더보기  즐겨찾기 공유하기\n\n\n<li class=\"bdr_nor\"><div class=\"photo\"><a href=\"javascript:\" onclick='goDetail(\"304\",\"ae10aa9d-1f9a-40e4-9c16-40e489ce1d97\")'><img alt=\"[강원] 강원도 '다시 봄!' - 봄 여행에 어울리는 강원도 숙소 모음\" src=\"https://support.visitkorea.or.kr/img/call?cmd=VIEW&amp;id=81852909-ad85-456e-a837-349b5fc75915\"/></a></div><div class=\"area_txt\"> <div class=\"tit\"> <a href=\"javascript:\" onclick='goDetail(\"304\",\"ae10aa9d-1f9a-40e4-9c16-40e489ce1d97\")'>[강원] 강원도 '다시 <!--HS-->봄<!--HE-->!' - <!--HS-->봄<!--HE--> <!--HS-->여행<!--HE-->에 어울리는 강원도 숙소 모음</a> </div> <p>강원도 </p> <p class=\"tag\"><span>#한국관광품질인증</span><span>#여행기사</span><span>#추천숙박</span><span>#파로호한옥펜션</span><span>#강릉오죽한옥마을</span><span>#호텔탑스빌</span><span>#MGM호텔</span><span>#피카소호텔</span><span>#화천</span><span>#강릉</span><span>#동해</span><span>#바다</span><span>#강원숙소</span><span>#인증숙소</span><span>#우수숙소</span><span>#봄!_가족과_함께</span><span>#강원도여행</span> </p></div><button class=\"btn_view\" title=\"내용 더보기\" type=\"button\">더보기</button><div class=\"pop_subMenu\"> <ul> <li class=\"btn_far\"><a href=\"javascript:\" onclick='setFavoContent(\"ae10aa9d-1f9a-40e4-9c16-40e489ce1d97\")'>즐겨찾기</a></li> <li class=\"btn_share\" id=\"ae10aa9d-1f9a-40e4-9c16-40e489ce1d97\"><a href=\"javascript:\" onclick='getShareInfo(\"%5B%EA%B0%95%EC%9B%90%5D%20%EA%B0%95%EC%9B%90%EB%8F%84%20%26%2339%3B%EB%8B%A4%EC%8B%9C%20%3C!HS%3E%EB%B4%84%3C!HE%3E!%26%2339%3B%20-%20%3C!HS%3E%EB%B4%84%3C!HE%3E%20%3C!HS%3E%EC%97%AC%ED%96%89%3C!HE%3E%EC%97%90%20%EC%96%B4%EC%9A%B8%EB%A6%AC%EB%8A%94%20%EA%B0%95%EC%9B%90%EB%8F%84%20%EC%88%99%EC%86%8C%20%EB%AA%A8%EC%9D%8C\",\"81852909-ad85-456e-a837-349b5fc75915\",\"ae10aa9d-1f9a-40e4-9c16-40e489ce1d97\",\"304\");'>공유하기</a></li> </ul></div></li>\n[강원] 강원도 '다시 봄!' - 봄 여행에 어울리는 강원도 숙소 모음  강원도  #한국관광품질인증#여행기사#추천숙박#파로호한옥펜션#강릉오죽한옥마을#호텔탑스빌#MGM호텔#피카소호텔#화천#강릉#동해#바다#강원숙소#인증숙소#우수숙소#봄!_가족과_함께#강원도여행 더보기  즐겨찾기 공유하기\n\n\n<li class=\"bdr_nor\"><div class=\"photo\"><a href=\"javascript:\" onclick='goDetail(\"304\",\"3c1a0943-222c-4c05-8c96-aff576753602\")'><img alt=\"걷고, 먹고, 즐기고··· 포항으로 떠나는 봄 별미 여행\" src=\"https://support.visitkorea.or.kr/img/call?cmd=VIEW&amp;id=898807f6-016c-4945-a560-4b96950ba32d\"/></a></div><div class=\"area_txt\"> <div class=\"tit\"> <a href=\"javascript:\" onclick='goDetail(\"304\",\"3c1a0943-222c-4c05-8c96-aff576753602\")'>걷고, 먹고, 즐기고··· 포항으로 떠나는 <!--HS-->봄<!--HE--> 별미 <!--HS-->여행<!--HE--></a> </div> <p>경상북도 포항시</p> <p class=\"tag\"><span>#트레킹</span><span>#내연산계곡</span><span>#보경사</span><span>#경상북도수목원</span><span>#연산폭포</span><span>#관음폭포</span><span>#기청산식물원</span><span>#사방기념공원</span><span>#죽도시장</span><span>#맛집</span><span>#물회</span><span>#포항운하</span><span>#영일대해수욕장</span><span>#구룡포</span><span>#근대문화역사거리</span><span>#추천가볼만한곳</span><span>#포항가볼만한곳</span><span>#포항당일코스</span><span>#포항1박2일코스</span><span>#포항맛집</span><span>#미식여행</span><span>#모리국수</span><span>#2015년5월추천가볼만한곳</span><span>#5월추천가볼만한곳</span><span>#봄_제철음식</span> </p></div><button class=\"btn_view\" title=\"내용 더보기\" type=\"button\">더보기</button><div class=\"pop_subMenu\"> <ul> <li class=\"btn_far\"><a href=\"javascript:\" onclick='setFavoContent(\"3c1a0943-222c-4c05-8c96-aff576753602\")'>즐겨찾기</a></li> <li class=\"btn_share\" id=\"3c1a0943-222c-4c05-8c96-aff576753602\"><a href=\"javascript:\" onclick='getShareInfo(\"%EA%B1%B7%EA%B3%A0%2C%20%EB%A8%B9%EA%B3%A0%2C%20%EC%A6%90%EA%B8%B0%EA%B3%A0%C2%B7%C2%B7%C2%B7%20%ED%8F%AC%ED%95%AD%EC%9C%BC%EB%A1%9C%20%EB%96%A0%EB%82%98%EB%8A%94%20%3C!HS%3E%EB%B4%84%3C!HE%3E%20%EB%B3%84%EB%AF%B8%20%3C!HS%3E%EC%97%AC%ED%96%89%3C!HE%3E\",\"898807f6-016c-4945-a560-4b96950ba32d\",\"3c1a0943-222c-4c05-8c96-aff576753602\",\"304\");'>공유하기</a></li> </ul></div></li>\n걷고, 먹고, 즐기고··· 포항으로 떠나는 봄 별미 여행  경상북도 포항시 #트레킹#내연산계곡#보경사#경상북도수목원#연산폭포#관음폭포#기청산식물원#사방기념공원#죽도시장#맛집#물회#포항운하#영일대해수욕장#구룡포#근대문화역사거리#추천가볼만한곳#포항가볼만한곳#포항당일코스#포항1박2일코스#포항맛집#미식여행#모리국수#2015년5월추천가볼만한곳#5월추천가볼만한곳#봄_제철음식 더보기  즐겨찾기 공유하기\n\n\n<li class=\"bdr_nor\"><div class=\"photo\"><a href=\"javascript:\" onclick='goDetail(\"304\",\"11a7d910-221d-43ae-9b19-a612b21c3e86\")'><img alt=\"거제&amp;통영 여행 꿀팁. 깨알 팁 다수 포함! 봄 산책하기 좋은 1박2일 거제&amp;통영 여행 코스\" src=\"https://support.visitkorea.or.kr/img/call?cmd=VIEW&amp;id=1e803cf5-3d1d-4824-b94b-862366e1bde8\"/></a></div><div class=\"area_txt\"> <div class=\"tit\"> <a href=\"javascript:\" onclick='goDetail(\"304\",\"11a7d910-221d-43ae-9b19-a612b21c3e86\")'>거제&amp;통영 <!--HS-->여행<!--HE--> 꿀팁. 깨알 팁 다수 포함! <!--HS-->봄<!--HE--> 산책하기 좋은 1박2일 거제&amp;통영 <!--HS-->여행<!--HE--> 코스</a> </div> <p>경상남도 거제시</p> <p class=\"tag\"><span>#거제맛집</span><span>#거제여행</span><span>#거제가볼만한곳</span><span>#통영여행</span><span>#통영가볼만한곳</span><span>#통영맛집</span><span>#통영루지</span><span>#봄산책</span><span>#봄여행</span><span>#걷기좋은길</span> </p></div><button class=\"btn_view\" title=\"내용 더보기\" type=\"button\">더보기</button><div class=\"pop_subMenu\"> <ul> <li class=\"btn_far\"><a href=\"javascript:\" onclick='setFavoContent(\"11a7d910-221d-43ae-9b19-a612b21c3e86\")'>즐겨찾기</a></li> <li class=\"btn_share\" id=\"11a7d910-221d-43ae-9b19-a612b21c3e86\"><a href=\"javascript:\" onclick='getShareInfo(\"%EA%B1%B0%EC%A0%9C%26%ED%86%B5%EC%98%81%20%3C!HS%3E%EC%97%AC%ED%96%89%3C!HE%3E%20%EA%BF%80%ED%8C%81.%20%EA%B9%A8%EC%95%8C%20%ED%8C%81%20%EB%8B%A4%EC%88%98%20%ED%8F%AC%ED%95%A8!%20%3C!HS%3E%EB%B4%84%3C!HE%3E%20%EC%82%B0%EC%B1%85%ED%95%98%EA%B8%B0%20%EC%A2%8B%EC%9D%80%201%EB%B0%952%EC%9D%BC%20%EA%B1%B0%EC%A0%9C%26%ED%86%B5%EC%98%81%20%3C!HS%3E%EC%97%AC%ED%96%89%3C!HE%3E%20%EC%BD%94%EC%8A%A4\",\"1e803cf5-3d1d-4824-b94b-862366e1bde8\",\"11a7d910-221d-43ae-9b19-a612b21c3e86\",\"304\");'>공유하기</a></li> </ul></div></li>\n거제&통영 여행 꿀팁. 깨알 팁 다수 포함! 봄 산책하기 좋은 1박2일 거제&통영 여행 코스  경상남도 거제시 #거제맛집#거제여행#거제가볼만한곳#통영여행#통영가볼만한곳#통영맛집#통영루지#봄산책#봄여행#걷기좋은길 더보기  즐겨찾기 공유하기\n\n\n<li class=\"bdr_nor\"><div class=\"photo\"><a href=\"javascript:\" onclick='goDetail(\"304\",\"5d063ecc-ff86-4b7e-8ad8-85ce5ae9008c\")'><img alt=\"봄의 유혹, 유채와 튤립을 가슴에 담다 '경남 남해 봄꽃 여행'\" src=\"https://support.visitkorea.or.kr/img/call?cmd=VIEW&amp;id=24187bfe-a4c2-4c7f-b59d-ef7ea826afff\"/></a></div><div class=\"area_txt\"> <div class=\"tit\"> <a href=\"javascript:\" onclick='goDetail(\"304\",\"5d063ecc-ff86-4b7e-8ad8-85ce5ae9008c\")'><!--HS-->봄<!--HE-->의 유혹, 유채와 튤립을 가슴에 담다 '경남 남해 <!--HS-->봄<!--HE-->꽃 <!--HS-->여행<!--HE-->'</a> </div> <p>경상남도 남해군</p> <p class=\"tag\"><span>#봄꽃여행</span><span>#봄꽃열전</span><span>#봄꽃축제</span> </p></div><button class=\"btn_view\" title=\"내용 더보기\" type=\"button\">더보기</button><div class=\"pop_subMenu\"> <ul> <li class=\"btn_far\"><a href=\"javascript:\" onclick='setFavoContent(\"5d063ecc-ff86-4b7e-8ad8-85ce5ae9008c\")'>즐겨찾기</a></li> <li class=\"btn_share\" id=\"5d063ecc-ff86-4b7e-8ad8-85ce5ae9008c\"><a href=\"javascript:\" onclick='getShareInfo(\"%3C!HS%3E%EB%B4%84%3C!HE%3E%EC%9D%98%20%EC%9C%A0%ED%98%B9%2C%20%EC%9C%A0%EC%B1%84%EC%99%80%20%ED%8A%A4%EB%A6%BD%EC%9D%84%20%EA%B0%80%EC%8A%B4%EC%97%90%20%EB%8B%B4%EB%8B%A4%20%26%2339%3B%EA%B2%BD%EB%82%A8%20%EB%82%A8%ED%95%B4%20%3C!HS%3E%EB%B4%84%3C!HE%3E%EA%BD%83%20%3C!HS%3E%EC%97%AC%ED%96%89%3C!HE%3E%26%2339%3B\",\"24187bfe-a4c2-4c7f-b59d-ef7ea826afff\",\"5d063ecc-ff86-4b7e-8ad8-85ce5ae9008c\",\"304\");'>공유하기</a></li> </ul></div></li>\n봄의 유혹, 유채와 튤립을 가슴에 담다 '경남 남해 봄꽃 여행'  경상남도 남해군 #봄꽃여행#봄꽃열전#봄꽃축제 더보기  즐겨찾기 공유하기\n\n\n<li class=\"bdr_nor\"><div class=\"photo\"><a href=\"javascript:\" onclick='goDetail(\"304\",\"3ee1e7b6-ae3c-4e18-86b8-4c573e6a73bd\")'><img alt=\"마음을 나누는 엄마 딸 여행, 서울 남산 주변과 한강 물길 봄나들이\" src=\"https://support.visitkorea.or.kr/img/call?cmd=VIEW&amp;id=ab0ce4d1-0891-424c-ac2e-c5adc0955ae5\"/></a></div><div class=\"area_txt\"> <div class=\"tit\"> <a href=\"javascript:\" onclick='goDetail(\"304\",\"3ee1e7b6-ae3c-4e18-86b8-4c573e6a73bd\")'>마음을 나누는 엄마 딸 <!--HS-->여행<!--HE-->, 서울 남산 주변과 한강 물길 <!--HS-->봄<!--HE-->나들이</a> </div> <p>서울 </p> <p class=\"tag\"><span>#서울가볼만한곳</span><span>#아이와함께</span><span>#친구와함께</span><span>#연인과함께</span><span>#봄에가볼만한곳</span><span>#충무로역</span><span>#오재미동</span><span>#영상예술</span><span>#예술통</span><span>#거리미술관</span><span>#필동</span><span>#남산골한옥마을</span><span>#전통가옥</span><span>#국악당</span><span>#체험학습</span><span>#전통문화체험</span><span>#서울천년타임캡슐광장</span><span>#남산케이블카</span><span>#N서울타워</span><span>#남산</span><span>#한양도성성곽길</span><span>#안중근의사기념관</span><span>#남산도서관</span><span>#서울여행코스</span><span>#양화한강공원</span><span>#한강</span><span>#피크닉</span><span>#나들이</span><span>#봄나들이</span><span>#선유도공원</span><span>#카페나루</span><span>#서울맛집</span><span>#달강</span><span>#서래섬</span><span>#세빛섬</span><span>#튜브스터</span><span>#밤도깨비야시장</span><span>#낭만달빛마켓</span><span>#반포한강공원야시장</span><span>#반포한강공원</span><span>#서울밤도깨비야시장</span><span>#스트리트뮤지엄</span><span>#힐링</span><span>#한강자전거</span> </p></div><button class=\"btn_view\" title=\"내용 더보기\" type=\"button\">더보기</button><div class=\"pop_subMenu\"> <ul> <li class=\"btn_far\"><a href=\"javascript:\" onclick='setFavoContent(\"3ee1e7b6-ae3c-4e18-86b8-4c573e6a73bd\")'>즐겨찾기</a></li> <li class=\"btn_share\" id=\"3ee1e7b6-ae3c-4e18-86b8-4c573e6a73bd\"><a href=\"javascript:\" onclick='getShareInfo(\"%EB%A7%88%EC%9D%8C%EC%9D%84%20%EB%82%98%EB%88%84%EB%8A%94%20%EC%97%84%EB%A7%88%20%EB%94%B8%20%3C!HS%3E%EC%97%AC%ED%96%89%3C!HE%3E%2C%20%EC%84%9C%EC%9A%B8%20%EB%82%A8%EC%82%B0%20%EC%A3%BC%EB%B3%80%EA%B3%BC%20%ED%95%9C%EA%B0%95%20%EB%AC%BC%EA%B8%B8%20%3C!HS%3E%EB%B4%84%3C!HE%3E%EB%82%98%EB%93%A4%EC%9D%B4\",\"ab0ce4d1-0891-424c-ac2e-c5adc0955ae5\",\"3ee1e7b6-ae3c-4e18-86b8-4c573e6a73bd\",\"304\");'>공유하기</a></li> </ul></div></li>\n마음을 나누는 엄마 딸 여행, 서울 남산 주변과 한강 물길 봄나들이  서울  #서울가볼만한곳#아이와함께#친구와함께#연인과함께#봄에가볼만한곳#충무로역#오재미동#영상예술#예술통#거리미술관#필동#남산골한옥마을#전통가옥#국악당#체험학습#전통문화체험#서울천년타임캡슐광장#남산케이블카#N서울타워#남산#한양도성성곽길#안중근의사기념관#남산도서관#서울여행코스#양화한강공원#한강#피크닉#나들이#봄나들이#선유도공원#카페나루#서울맛집#달강#서래섬#세빛섬#튜브스터#밤도깨비야시장#낭만달빛마켓#반포한강공원야시장#반포한강공원#서울밤도깨비야시장#스트리트뮤지엄#힐링#한강자전거 더보기  즐겨찾기 공유하기\n\n\n<li class=\"bdr_nor\"><div class=\"photo\"><a href=\"javascript:\" onclick='goDetail(\"304\",\"5bdee712-f484-4d63-80a7-0a2df70afc1b\")'><img alt=\"한국관광공사 추천 5월 걷기여행길, 싱그러운 봄 날씨와 어울리는 길\" src=\"https://support.visitkorea.or.kr/img/call?cmd=VIEW&amp;id=d5a9e5b6-6261-435f-aaa0-be073b1ea360\"/></a></div><div class=\"area_txt\"> <div class=\"tit\"> <a href=\"javascript:\" onclick='goDetail(\"304\",\"5bdee712-f484-4d63-80a7-0a2df70afc1b\")'>한국관광공사 추천 5월 걷기<!--HS-->여행<!--HE-->길, 싱그러운 <!--HS-->봄<!--HE--> 날씨와 어울리는 길</a> </div> <p>경기도 </p> <p class=\"tag\"><span>#대부해솔길</span><span>#안산가볼만한곳</span><span>#트레킹코스</span><span>#선비순례길</span><span>#선성현길</span><span>#안동가볼만한곳</span><span>#힐링</span><span>#휴양여행</span><span>#힐링여행</span><span>#걷기여행</span><span>#팔공산올레길</span><span>#부인사도보길</span><span>#대구가볼만한곳</span><span>#진안고원길</span><span>#감동벼룻길</span><span>#진안가볼만한곳</span><span>#버그내순례길</span><span>#당진가볼만한곳</span><span>#오리숲길</span><span>#세조길</span><span>#보은가볼만한곳</span><span>#가야산소리길</span><span>#해인사소리길</span><span>#합천가볼만한곳</span><span>#한국관광7선</span><span>#싱그러운봄</span><span>#가정의달</span><span>#봄여행</span><span>#걷기여행길</span> </p></div><button class=\"btn_view\" title=\"내용 더보기\" type=\"button\">더보기</button><div class=\"pop_subMenu\"> <ul> <li class=\"btn_far\"><a href=\"javascript:\" onclick='setFavoContent(\"5bdee712-f484-4d63-80a7-0a2df70afc1b\")'>즐겨찾기</a></li> <li class=\"btn_share\" id=\"5bdee712-f484-4d63-80a7-0a2df70afc1b\"><a href=\"javascript:\" onclick='getShareInfo(\"%ED%95%9C%EA%B5%AD%EA%B4%80%EA%B4%91%EA%B3%B5%EC%82%AC%20%EC%B6%94%EC%B2%9C%205%EC%9B%94%20%EA%B1%B7%EA%B8%B0%3C!HS%3E%EC%97%AC%ED%96%89%3C!HE%3E%EA%B8%B8%2C%20%EC%8B%B1%EA%B7%B8%EB%9F%AC%EC%9A%B4%20%3C!HS%3E%EB%B4%84%3C!HE%3E%20%EB%82%A0%EC%94%A8%EC%99%80%20%EC%96%B4%EC%9A%B8%EB%A6%AC%EB%8A%94%20%EA%B8%B8\",\"d5a9e5b6-6261-435f-aaa0-be073b1ea360\",\"5bdee712-f484-4d63-80a7-0a2df70afc1b\",\"304\");'>공유하기</a></li> </ul></div></li>\n한국관광공사 추천 5월 걷기여행길, 싱그러운 봄 날씨와 어울리는 길  경기도  #대부해솔길#안산가볼만한곳#트레킹코스#선비순례길#선성현길#안동가볼만한곳#힐링#휴양여행#힐링여행#걷기여행#팔공산올레길#부인사도보길#대구가볼만한곳#진안고원길#감동벼룻길#진안가볼만한곳#버그내순례길#당진가볼만한곳#오리숲길#세조길#보은가볼만한곳#가야산소리길#해인사소리길#합천가볼만한곳#한국관광7선#싱그러운봄#가정의달#봄여행#걷기여행길 더보기  즐겨찾기 공유하기\n\n\n<li class=\"bdr_nor\"><div class=\"photo\"><a href=\"javascript:\" onclick='goDetail(\"304\",\"13c63e5d-cc5c-4b35-939f-905c9ec2a3b2\")'><img alt=\"[KTX매거진] 남도 풍류길 따라 봄을 노래하다, 남도바닷길 여행\" src=\"https://support.visitkorea.or.kr/img/call?cmd=VIEW&amp;id=bffb31b1-4a08-4c35-bdca-4496104c6706\"/></a></div><div class=\"area_txt\"> <div class=\"tit\"> <a href=\"javascript:\" onclick='goDetail(\"304\",\"13c63e5d-cc5c-4b35-939f-905c9ec2a3b2\")'>[KTX매거진] 남도 풍류길 따라 <!--HS-->봄<!--HE-->을 노래하다, 남도바닷길 <!--HS-->여행<!--HE--></a> </div> <p>전라남도</p> <p class=\"tag\"><span>#대한민국 테마여행10선</span><span>#남도바닷길</span><span>#여수</span><span>#여수향일암</span><span>#순천</span><span>#순천만정원</span><span>#광양</span><span>#광양매화마을</span><span>#보성</span><span>#보성녹차밭</span><span>#KTX매거진</span><span>#봄!_가족과_함께</span> </p></div><button class=\"btn_view\" title=\"내용 더보기\" type=\"button\">더보기</button><div class=\"pop_subMenu\"> <ul> <li class=\"btn_far\"><a href=\"javascript:\" onclick='setFavoContent(\"13c63e5d-cc5c-4b35-939f-905c9ec2a3b2\")'>즐겨찾기</a></li> <li class=\"btn_share\" id=\"13c63e5d-cc5c-4b35-939f-905c9ec2a3b2\"><a href=\"javascript:\" onclick='getShareInfo(\"%5BKTX%EB%A7%A4%EA%B1%B0%EC%A7%84%5D%20%EB%82%A8%EB%8F%84%20%ED%92%8D%EB%A5%98%EA%B8%B8%20%EB%94%B0%EB%9D%BC%20%3C!HS%3E%EB%B4%84%3C!HE%3E%EC%9D%84%20%EB%85%B8%EB%9E%98%ED%95%98%EB%8B%A4%2C%20%EB%82%A8%EB%8F%84%EB%B0%94%EB%8B%B7%EA%B8%B8%20%3C!HS%3E%EC%97%AC%ED%96%89%3C!HE%3E\",\"bffb31b1-4a08-4c35-bdca-4496104c6706\",\"13c63e5d-cc5c-4b35-939f-905c9ec2a3b2\",\"304\");'>공유하기</a></li> </ul></div></li>\n[KTX매거진] 남도 풍류길 따라 봄을 노래하다, 남도바닷길 여행  전라남도 #대한민국 테마여행10선#남도바닷길#여수#여수향일암#순천#순천만정원#광양#광양매화마을#보성#보성녹차밭#KTX매거진#봄!_가족과_함께 더보기  즐겨찾기 공유하기\n\n\n<li class=\"bdr_nor\"><div class=\"photo\"><a href=\"javascript:\" onclick='goDetail(\"304\",\"eeda3112-e02e-4a75-ade9-06d0b8da3fa5\")'><img alt=\"홍홍홍~ 봄 마중 여행 순천 홍매화코스\" src=\"https://support.visitkorea.or.kr/img/call?cmd=VIEW&amp;id=29abf1b7-5739-4a3f-a85b-3aa4d5da3602\"/></a></div><div class=\"area_txt\"> <div class=\"tit\"> <a href=\"javascript:\" onclick='goDetail(\"304\",\"eeda3112-e02e-4a75-ade9-06d0b8da3fa5\")'>홍홍홍~ <!--HS-->봄<!--HE--> 마중 <!--HS-->여행<!--HE--> 순천 홍매화코스</a> </div> <p>전라남도 순천시</p> <p class=\"tag\"><span>#추천여행코스</span><span>#여행코스</span><span>#순천</span> </p></div><button class=\"btn_view\" title=\"내용 더보기\" type=\"button\">더보기</button><div class=\"pop_subMenu\"> <ul> <li class=\"btn_far\"><a href=\"javascript:\" onclick='setFavoContent(\"eeda3112-e02e-4a75-ade9-06d0b8da3fa5\")'>즐겨찾기</a></li> <li class=\"btn_share\" id=\"eeda3112-e02e-4a75-ade9-06d0b8da3fa5\"><a href=\"javascript:\" onclick='getShareInfo(\"%ED%99%8D%ED%99%8D%ED%99%8D~%20%3C!HS%3E%EB%B4%84%3C!HE%3E%20%EB%A7%88%EC%A4%91%20%3C!HS%3E%EC%97%AC%ED%96%89%3C!HE%3E%20%EC%88%9C%EC%B2%9C%20%ED%99%8D%EB%A7%A4%ED%99%94%EC%BD%94%EC%8A%A4\",\"29abf1b7-5739-4a3f-a85b-3aa4d5da3602\",\"eeda3112-e02e-4a75-ade9-06d0b8da3fa5\",\"304\");'>공유하기</a></li> </ul></div></li>\n홍홍홍~ 봄 마중 여행 순천 홍매화코스  전라남도 순천시 #추천여행코스#여행코스#순천 더보기  즐겨찾기 공유하기\n\n\n"
     ],
     "output_type": "stream"
    }
   ],
   "source": [
    "# 스텝 5. 현재 페이지에 있는 내용을 화면에 출력하기\n",
    "time.sleep(1)\n",
    "\n",
    "full_html = driver.page_source\n",
    "# print(full_html)\n",
    "soup = BeautifulSoup(full_html, 'html.parser')\n",
    "\n",
    "content_list = soup.find('ul', class_= 'list_thumType flnon')\n",
    "# print(content_list.prettify())\n",
    "for i in content_list:\n",
    "    print(i)\n",
    "    print(i.text.strip())\n",
    "    print(\"\\n\")\n"
   ],
   "metadata": {
    "collapsed": false,
    "pycharm": {
     "name": "#%%\n",
     "is_executing": false
    }
   }
  },
  {
   "cell_type": "code",
   "execution_count": 27,
   "outputs": [],
   "source": [
    "import sys\n",
    "# 스텝 6. 현재 페이지에 있는 내용을  txt 형식으로 파일에 저장\n",
    "orig_stdout = sys.stdout\n",
    "f_name = input(\"검색 결과를 저장할 파일경로와 이름을 지정하세요(예: C:\\\\data\\\\test.txt): \")\n",
    "f = open(f_name, 'a', encoding='UTF-8')\n",
    "sys.stdout = f\n",
    "time.sleep(1)"
   ],
   "metadata": {
    "collapsed": false,
    "pycharm": {
     "name": "#%%\n",
     "is_executing": false
    }
   }
  },
  {
   "cell_type": "code",
   "execution_count": 28,
   "outputs": [],
   "source": [
    "html = driver.page_source\n",
    "soup = BeautifulSoup(html, 'html.parser')\n",
    "content_list = soup.find('ul', class_='list_thumType flnon')\n",
    "\n",
    "for i in content_list:\n",
    "    print(i.text.strip())\n",
    "    print('\\n')\n",
    "    \n",
    "sys.stdout = orig_stdout\n",
    "f.close()"
   ],
   "metadata": {
    "collapsed": false,
    "pycharm": {
     "name": "#%%\n",
     "is_executing": false
    }
   }
  },
  {
   "cell_type": "code",
   "execution_count": null,
   "outputs": [],
   "source": [
    "\n"
   ],
   "metadata": {
    "collapsed": false,
    "pycharm": {
     "name": "#%%\n"
    }
   }
  }
 ],
 "metadata": {
  "kernelspec": {
   "display_name": "Python 3",
   "language": "python",
   "name": "python3"
  },
  "language_info": {
   "codemirror_mode": {
    "name": "ipython",
    "version": 2
   },
   "file_extension": ".py",
   "mimetype": "text/x-python",
   "name": "python",
   "nbconvert_exporter": "python",
   "pygments_lexer": "ipython2",
   "version": "2.7.6"
  },
  "pycharm": {
   "stem_cell": {
    "cell_type": "raw",
    "source": [],
    "metadata": {
     "collapsed": false
    }
   }
  }
 },
 "nbformat": 4,
 "nbformat_minor": 0
}