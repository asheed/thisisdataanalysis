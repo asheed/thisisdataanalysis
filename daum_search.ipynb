{
 "cells": [
  {
   "cell_type": "code",
   "execution_count": 1,
   "metadata": {
    "collapsed": true,
    "pycharm": {
     "is_executing": false
    }
   },
   "outputs": [],
   "source": [
    "# 스텝 0. 필요한 모듈과 라이브러리를 로딩하고 검색어를 설정합니다.\n",
    "from bs4 import BeautifulSoup\n",
    "from selenium import webdriver\n",
    "from selenium.webdriver.common.by import By\n",
    "from selenium.webdriver.support.ui import WebDriverWait\n",
    "from selenium.webdriver.support import expected_conditions as EC\n",
    "import time\n",
    "\n",
    "query_txt = input('크롤링 키워드를 입력하세요:')\n",
    "f_name = input(\"검색 결과를 저장할 파일경로와 이름을 지정하세요(예: C:\\\\data\\\\test.txt): \")"
   ]
  },
  {
   "cell_type": "code",
   "execution_count": 2,
   "outputs": [],
   "source": [
    "# 스텝 1. 크롬 드라이버를 사용하여 웹 브라우저를 실행합니다.\n",
    "path = \"E:/DevTools/chromedriver_win32/chromedriver.exe\"\n",
    "driver = webdriver.Chrome(path)\n",
    "# driver.implicitly_wait(5) # 암시적(implicitly) 대기\n",
    "driver.get(\"https://www.daum.net\")\n",
    "\n",
    "# wait = WebDriverWait(driver, 10) # 기본 대기 시간을 10초로 설정\n",
    "# xpath가 '//*[@id=\"safetyStay1\"]/div/button' 인 요소를 클릭할 수 있을때 까지 대기 (코로나 관련 팝업)\n",
    "# element = wait.until(EC.element_to_be_clickable((By.XPATH, '//*[@id=\"safetyStay1\"]/div/button')))\n",
    "# element.click() # 해당 요소가 나타나면 클릭합니다.\n",
    "# driver.find_element_by_class_name(\"btn_close3\").click()\n",
    "# driver.find_element_by_xpath('//*[@id=\"safetyStay1\"]/div/button').click()\n",
    "\n",
    "# 스텝 2. 검색버튼을 찾아서 클릭합니다.\n",
    "driver.find_element(By.ID, \"q\").send_keys(query_txt + '\\n')\n",
    "# 스텝 3. 검색창에 검색어를 입력합니다.\n",
    "# element = driver.find_element_by_id(\"inp_search\")\n",
    "# element.send_keys(query_txt)\n",
    "\n",
    "# 스텝 4. 검색버튼을 눌러 실행합니다.\n",
    "# driver.find_element_by_link_text(\"검색\").click()\n"
   ],
   "metadata": {
    "collapsed": false,
    "pycharm": {
     "name": "#%%\n",
     "is_executing": false
    }
   }
  },
  {
   "cell_type": "code",
   "execution_count": 16,
   "outputs": [
    {
     "name": "stdout",
     "text": [
      "봄 제주도 여행 서귀포 소품샵 제스토리  2020.02.19 봄 제주도 여행 서귀포 소품샵 제스토리 지난 주만 하더라도 봄이 찾아올 것만 같았는데 이 글을 쓰고 있는 시점인 오늘은 눈바람이 날리며 산간지방은 다시 겨울이...   jjyface.tistory.com/652   제주 여행 맛집 전문 블로그 : 설이오빠  2299PBy4nt-UvTSi7e^http://jjyface.tistory.com/652^0 10401^http://jjyface.tistory.com/652^2299PBy4nt-UvTSi7e^blog^article^%EB%B4%84%EC%97%AC%ED%96%89^tistory 10403^http://jjyface.tistory.com/^123fOrCWay_7uaSnym^blog^channel^%EB%B4%84%EC%97%AC%ED%96%89^tistory\n\n\n1박2일 봄 국내여행코스 추천  2020.03.09 1박2일 봄 국내여행코스 추천 따뜻한 봄이 다가왔습니다. 봄 하면 사랑하는 사람들과 함께하는 여행을 떠올릴 수 있는데요. 하지만 코로나바이러스19로 인하여 해외여행...   hororiya.tistory.com/201   호로리야의 일상  22W8JcnZJtTiec2mDr^http://hororiya.tistory.com/201^0 10401^http://hororiya.tistory.com/201^22W8JcnZJtTiec2mDr^blog^article^%EB%B4%84%EC%97%AC%ED%96%89^tistory 10403^http://hororiya.tistory.com/^12JHLC4Qk4AkFwaoXH^blog^channel^%EB%B4%84%EC%97%AC%ED%96%89^tistory\n\n\n봄 여행 핫플레이스  2019.12.16 만발하는 장소로 매년 봄이면 엄청난 인파가 몰리는 핫한 장소인데요. 때문에 봄 여행에 제주 산방산을 빼놓고 논한다는 건 언어도단이죠. 그 정도로 봄철 제주의 대표...   mungteacher.tistory.com/99   진심  22X7VzIrC0cJIUCVY_^http://mungteacher.tistory.com/99^0 10401^http://mungteacher.tistory.com/99^22X7VzIrC0cJIUCVY_^blog^article^%EB%B4%84%EC%97%AC%ED%96%89^tistory 10403^http://mungteacher.tistory.com/^12iZrukLhZPPd9YQc1^blog^channel^%EB%B4%84%EC%97%AC%ED%96%89^tistory\n\n\n오사카 봄여행  2017.11.22 일본이 가고싶다며 급 여행 계획을 세우고 엄마랑 언니랑 셋이 다녀온 오사카 봄여행! 비행기에서 자다가 일어나서 창 밖을 봤는데 너무 예뻐서 찍은 사진! 위치를 확인...   great1.tistory.com/2   블로그야!  22MEKGo8d85asycZds^http://great1.tistory.com/2^0 10401^http://great1.tistory.com/2^22MEKGo8d85asycZds^blog^article^%EB%B4%84%EC%97%AC%ED%96%89^tistory 10403^http://great1.tistory.com/^12f_MKgnpE6t57IdwE^blog^channel^%EB%B4%84%EC%97%AC%ED%96%89^tistory\n\n\n"
     ],
     "output_type": "stream"
    }
   ],
   "source": [
    "# 스텝 5. 현재 페이지에 있는 내용을 화면에 출력하기\n",
    "\n",
    "full_html = driver.page_source\n",
    "# print(full_html)\n",
    "soup = BeautifulSoup(full_html, 'html.parser')\n",
    "\n",
    "# content_list = soup.find('ul', class_= 'list_info mg_cont clear').find_all('li')\n",
    "content_list = soup.select('#blogColl > div > ul > li')\n",
    "# print(content_list.prettify())\n",
    "for i in content_list:\n",
    "    # print(i)\n",
    "    print(i.text.strip())\n",
    "    print(\"\\n\")\n"
   ],
   "metadata": {
    "collapsed": false,
    "pycharm": {
     "name": "#%%\n",
     "is_executing": false
    }
   }
  },
  {
   "cell_type": "code",
   "execution_count": 27,
   "outputs": [],
   "source": [
    "import sys\n",
    "# 스텝 6. 현재 페이지에 있는 내용을  txt 형식으로 파일에 저장\n",
    "orig_stdout = sys.stdout\n",
    "\n",
    "f = open(f_name, 'a', encoding='UTF-8')\n",
    "sys.stdout = f\n",
    "time.sleep(1)"
   ],
   "metadata": {
    "collapsed": false,
    "pycharm": {
     "name": "#%%\n",
     "is_executing": false
    }
   }
  },
  {
   "cell_type": "code",
   "execution_count": 28,
   "outputs": [],
   "source": [
    "html = driver.page_source\n",
    "soup = BeautifulSoup(html, 'html.parser')\n",
    "content_list = soup.find('ul', class_='list_thumType flnon')\n",
    "\n",
    "for i in content_list:\n",
    "    print(i.text.strip())\n",
    "    print('\\n')\n",
    "    \n",
    "sys.stdout = orig_stdout\n",
    "f.close()"
   ],
   "metadata": {
    "collapsed": false,
    "pycharm": {
     "name": "#%%\n",
     "is_executing": false
    }
   }
  },
  {
   "cell_type": "code",
   "execution_count": null,
   "outputs": [],
   "source": [
    "\n"
   ],
   "metadata": {
    "collapsed": false,
    "pycharm": {
     "name": "#%%\n"
    }
   }
  }
 ],
 "metadata": {
  "kernelspec": {
   "display_name": "Python 3",
   "language": "python",
   "name": "python3"
  },
  "language_info": {
   "codemirror_mode": {
    "name": "ipython",
    "version": 2
   },
   "file_extension": ".py",
   "mimetype": "text/x-python",
   "name": "python",
   "nbconvert_exporter": "python",
   "pygments_lexer": "ipython2",
   "version": "2.7.6"
  },
  "pycharm": {
   "stem_cell": {
    "cell_type": "raw",
    "source": [],
    "metadata": {
     "collapsed": false
    }
   }
  }
 },
 "nbformat": 4,
 "nbformat_minor": 0
}