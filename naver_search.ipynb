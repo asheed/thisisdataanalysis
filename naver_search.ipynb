{
 "cells": [
  {
   "cell_type": "code",
   "execution_count": 16,
   "metadata": {
    "collapsed": true,
    "pycharm": {
     "name": "#%%\n",
     "is_executing": false
    }
   },
   "outputs": [],
   "source": [
    "# 스텝 0. 필요한 모듈과 라이브러리를 로딩하고 검색어를 설정합니다.\n",
    "from bs4 import BeautifulSoup\n",
    "from selenium import webdriver\n",
    "from selenium.webdriver.common.by import By\n",
    "from selenium.webdriver.support.ui import WebDriverWait\n",
    "from selenium.webdriver.support import expected_conditions as EC\n",
    "import time\n",
    "import sys\n",
    "\n",
    "query_txt = input('크롤링 키워드를 입력하세요:')\n",
    "f_name = input(\"검색 결과를 저장할 파일경로와 이름을 지정하세요(예: C:\\\\data\\\\test.txt): \")\n"
   ]
  },
  {
   "cell_type": "code",
   "execution_count": 17,
   "outputs": [],
   "source": [
    "# 스텝 1. 크롬 드라이버를 사용하여 웹 브라우저를 실행합니다.\n",
    "path = \"E:/DevTools/chromedriver_win32/chromedriver.exe\"\n",
    "driver = webdriver.Chrome(path)\n",
    "# driver.implicitly_wait(5) # 암시적(implicitly) 대기\n",
    "driver.get(\"https://www.naver.com\")\n",
    "\n",
    "# 스텝 2. 검색창을 찾아서 검색어를 입력합니다.\n",
    "search_el = driver.find_element(By.ID,'query')\n",
    "search_el.send_keys(query_txt)\n",
    "\n",
    "# 스텝 3. 검색버튼을 찾아서 클릭합니다.\n",
    "driver.find_element_by_id(\"search_btn\").click()"
   ],
   "metadata": {
    "collapsed": false,
    "pycharm": {
     "name": "#%%\n",
     "is_executing": false
    }
   }
  },
  {
   "cell_type": "code",
   "execution_count": 18,
   "outputs": [],
   "source": [
    "# 스텝 4. 현재 페이지에 있는 내용을 화면에 출력하기\n",
    "time.sleep(1)\n",
    "\n",
    "full_html = driver.page_source\n",
    "# print(full_html)\n",
    "soup = BeautifulSoup(full_html, 'html.parser')\n",
    "\n",
    "content_list = soup.select('div.blog > ul > li')\n",
    "# content_list = soup.find('ul', class_='type01').find_all('li')\n",
    "# print(content_list)\n",
    "# for i in content_list:\n",
    "    # print(i)\n",
    "    # print('type : ' + str(type(i)))\n",
    "    # print(i.text.strip())\n",
    "    # print(\"\\n\")\n"
   ],
   "metadata": {
    "collapsed": false,
    "pycharm": {
     "name": "#%%\n",
     "is_executing": false
    }
   }
  },
  {
   "cell_type": "code",
   "execution_count": 10,
   "outputs": [],
   "source": [
    "# 스텝 6. 현재 페이지에 있는 내용을  txt 형식으로 파일에 저장\n",
    "# orig_stdout = sys.stdout\n",
    "# f = open(f_name, 'a', encoding='UTF-8')\n",
    "# sys.stdout = f\n",
    "# time.sleep(1)"
   ],
   "metadata": {
    "collapsed": false,
    "pycharm": {
     "name": "#%%\n",
     "is_executing": false
    }
   }
  },
  {
   "cell_type": "code",
   "execution_count": 20,
   "outputs": [
    {
     "name": "stdout",
     "text": [
      "<li class=\"sh_blog_top\" id=\"sp_blog_1\"> <div class=\"thumb\"> <a class=\"sp_thmb thmb80\" href=\"https://mmj6201.blog.me/221835333423\" onclick=\"return goOtherCR(this,'a=blg_1st*i.img&amp;r=1&amp;i=90000003_0000000000000033A66A8F2F&amp;u='+urlencode(urlexpand(this.href)));\" target=\"_blank\"> <img alt=\"3월 제주 봄여행 산방\" class=\"sh_blog_thumbnail\" height=\"82\" onerror=\"this.parentNode.parentNode.style.display='none';\" src=\"https://search.pstatic.net/common/?src=http%3A%2F%2Fblogfiles.naver.net%2FMjAyMDAzMDNfMjM0%2FMDAxNTgzMjEyNDcwMjkz.LB0zIL052QNjUCDaC2pFYfwD5GN9wDXOFBgvFUp62zUg.yGNDLiealhRh9RfYQQn0Wp6TTfJvq4QTJXnpu_NLYBgg.JPEG.mmj6201%2F2.JPG%233000x2000&amp;type=n82_82\" width=\"82\"/> <span class=\"thmb_v\"></span> <span class=\"thmb_bd\"></span> </a> </div> <dl> <dt> <a class=\"sh_blog_title _sp_each_url _sp_each_title\" href=\"https://mmj6201.blog.me/221835333423\" onclick=\"return goOtherCR(this,'a=blg_1st*i.tit&amp;r=1&amp;i=90000003_0000000000000033A66A8F2F&amp;u='+urlencode(urlexpand(this.href)));\" target=\"_blank\" title=\"3월 제주 봄여행 산방산 유채꽃 &amp; 핫플\">3월 제주 <strong class=\"hl\">봄여행</strong> 산방산 유채꽃 &amp; 핫플</a> </dt> <dd class=\"txt_inline\">2020.03.03. </dd> <dd class=\"sh_blog_passage\">제주 <strong class=\"hl\">봄여행</strong> 미룰수가 없었어요 따사로운 봄햇살 유채꽃 향기 맡으면서 다녀왔던 제주의 기록 미리 다녀왔던 제주여행기지만, 어느때보다 좋았던 제주여행기였답니다....</dd> <dd class=\"txt_block\"> <span class=\"inline\"> <a class=\"txt84\" href=\"https://mmj6201.blog.me\" onclick=\"return goOtherCR(this,'a=blg_1st*i.blogname&amp;r=1&amp;i=90000003_0000000000000033A66A8F2F&amp;u='+urlencode(urlexpand(this.href)));\" target=\"_blank\">신성골이야기.아삭아삭한사...</a> <a class=\"url\" href=\"https://mmj6201.blog.me/221835333423\" onclick=\"return goOtherCR(this,'a=blg_1st*i.url&amp;r=1&amp;i=90000003_0000000000000033A66A8F2F&amp;u='+urlencode(urlexpand(this.href)));\" target=\"_blank\">mmj6201.blog.me/2218...</a> <span class=\"bar\"></span><a class=\"txt84\" href=\"?query=%EB%B4%84%EC%97%AC%ED%96%89&amp;where=post&amp;sm=tab_brs&amp;post_blogurl=mmj6201.blog.me\" onclick=\"return goOtherCR(this,'a=blg_1st*i.similar&amp;r=1&amp;i=90000003_0000000000000033A66A8F2F&amp;u='+urlencode(urlexpand(this.href)));\">블로그 내 검색</a> <span class=\"bar\"></span> <a class=\"map_opn _bck_open_map _mapid-bl01116205306 _postId-90000003_0000000000000033A66A8F2F _cr-a=blg_1st*i.area&amp;r=1&amp;i=90000003_0000000000000033A66A8F2F\" href=\"#\" onclick=\"return false;\">약도</a> </span> </dd> </dl> </li>\n\n\n<li class=\"sh_blog_top\" id=\"sp_blog_2\"> <div class=\"thumb\"> <a class=\"sp_thmb thmb80\" href=\"http://blog.daum.net/woogilane/7046389\" onclick=\"return goOtherCR(this,'a=blg_1st*d.img&amp;r=2&amp;i=a00000fa_54f3d726ee3b205c0ed1b36d&amp;u='+urlencode(urlexpand(this.href)));\" target=\"_blank\"> <img alt=\"신나는 제주 봄여행 수\" class=\"sh_blog_thumbnail\" height=\"82\" onerror=\"this.parentNode.parentNode.style.display='none';\" src=\"https://search.pstatic.net/sunny/?src=http%3A%2F%2Fcfile236.uf.daum.net%2Fimage%2F99FFCC4A5E6311B110516E%23945x630&amp;type=n82_82\" width=\"82\"/> <span class=\"thmb_v\"></span> <span class=\"thmb_bd\"></span> </a> </div> <dl> <dt> <a class=\"sh_blog_title _sp_each_url _sp_each_title\" href=\"http://blog.daum.net/woogilane/7046389\" onclick=\"return goOtherCR(this,'a=blg_1st*d.tit&amp;r=2&amp;i=a00000fa_54f3d726ee3b205c0ed1b36d&amp;u='+urlencode(urlexpand(this.href)));\" target=\"_blank\" title=\"신나는 제주 봄여행 수월봉전기자전거\">신나는 제주 <strong class=\"hl\">봄여행</strong> 수월봉전기자전거</a> </dt> <dd class=\"txt_inline\">3일 전 </dd> <dd class=\"sh_blog_passage\">분위기 좋은 카페에서 여유로운 시간을 보내기까지 하니 더욱 완벽한 여행이 될 수 있었습니다. 친구들과 함께 떠났던 제주 <strong class=\"hl\">봄여행</strong> 정말 대만족이었습니다....</dd> <dd class=\"txt_block\"> <span class=\"inline\"> <a class=\"txt84\" href=\"http://blog.daum.net/woogilane\" onclick=\"return goOtherCR(this,'a=blg_1st*d.blogname&amp;r=2&amp;i=a00000fa_54f3d726ee3b205c0ed1b36d&amp;u='+urlencode(urlexpand(this.href)));\" target=\"_blank\">허수아비의 사진속세...</a> <a class=\"url\" href=\"http://blog.daum.net/woogilane/7046389\" onclick=\"return goOtherCR(this,'a=blg_1st*d.url&amp;r=2&amp;i=a00000fa_54f3d726ee3b205c0ed1b36d&amp;u='+urlencode(urlexpand(this.href)));\" target=\"_blank\">blog.daum.net/woogilane/7046389</a> <span class=\"bar\"></span><a class=\"txt84\" href=\"?query=%EB%B4%84%EC%97%AC%ED%96%89&amp;where=post&amp;sm=tab_brs&amp;post_blogurl=http%3A%2F%2Fblog.daum.net%2Fwoogilane\" onclick=\"return goOtherCR(this,'a=blg_1st*d.similar&amp;r=2&amp;i=a00000fa_54f3d726ee3b205c0ed1b36d&amp;u='+urlencode(urlexpand(this.href)));\">블로그 내 검색</a> </span> </dd> </dl> </li>\n\n\n<li class=\"sh_blog_top\" id=\"sp_blog_3\"> <div class=\"thumb\"> <a class=\"sp_thmb thmb80\" href=\"https://blog.naver.com/seakjin042?Redirect=Log&amp;logNo=221828809160\" onclick=\"return goOtherCR(this,'a=blg_1st*i.img&amp;r=3&amp;i=90000003_0000000000000033A60701C8&amp;u='+urlencode(urlexpand(this.href)));\" target=\"_blank\"> <img alt=\"경남 가볼만한곳 진주\" class=\"sh_blog_thumbnail\" height=\"82\" onerror=\"this.parentNode.parentNode.style.display='none';\" src=\"https://search.pstatic.net/common/?src=http%3A%2F%2Fblogfiles.naver.net%2FMjAyMDAyMjhfMTQz%2FMDAxNTgyODgwMjIyNzU3.ZhLN10z0jzaeQLpU6EBAP5XF0T-I-IwSKkWnTv0lc9Yg.wCPsGBbAbieLQsaKBZ38WGklzSnranUdhNIzgiQLBIEg.JPEG.seakjin042%2F1.jpg%232853x1778&amp;type=n82_82\" width=\"82\"/> <span class=\"thmb_v\"></span> <span class=\"thmb_bd\"></span> </a> </div> <dl> <dt> <a class=\"sh_blog_title _sp_each_url _sp_each_title\" href=\"https://blog.naver.com/seakjin042?Redirect=Log&amp;logNo=221828809160\" onclick=\"return goOtherCR(this,'a=blg_1st*i.tit&amp;r=3&amp;i=90000003_0000000000000033A60701C8&amp;u='+urlencode(urlexpand(this.href)));\" target=\"_blank\" title=\"경남 가볼만한곳 진주 근교 봄여행 사찰, 대구 팔공산 갓바위 같은 절 합천 천불천탑\">경남 가볼만한곳 진주 근교 <strong class=\"hl\">봄여행</strong> 사찰, 대구 팔공산 갓바위...</a> </dt> <dd class=\"txt_inline\">2020.02.28. </dd> <dd class=\"sh_blog_passage\">사찰을 추천해드려요 #경남가볼만한곳 #경남사찰 #소원성취 #돌탑 #합천가볼만한곳 #진주가볼만한곳 #3월국내여행지추천 #천불천탑 #<strong class=\"hl\">봄여행</strong>사찰 #경남합천가볼만한곳 #</dd> <dd class=\"txt_block\"> <span class=\"inline\"> <a class=\"txt84\" href=\"https://blog.naver.com/seakjin042\" onclick=\"return goOtherCR(this,'a=blg_1st*i.blogname&amp;r=3&amp;i=90000003_0000000000000033A60701C8&amp;u='+urlencode(urlexpand(this.href)));\" target=\"_blank\">두런두런 이야기</a> <a class=\"url\" href=\"https://blog.naver.com/seakjin042?Redirect=Log&amp;logNo=221828809160\" onclick=\"return goOtherCR(this,'a=blg_1st*i.url&amp;r=3&amp;i=90000003_0000000000000033A60701C8&amp;u='+urlencode(urlexpand(this.href)));\" target=\"_blank\">blog.naver.com/seakj...</a> <span class=\"bar\"></span><a class=\"txt84\" href=\"?query=%EB%B4%84%EC%97%AC%ED%96%89&amp;where=post&amp;sm=tab_brs&amp;post_blogurl=blog.naver.com%2Fseakjin042\" onclick=\"return goOtherCR(this,'a=blg_1st*i.similar&amp;r=3&amp;i=90000003_0000000000000033A60701C8&amp;u='+urlencode(urlexpand(this.href)));\">블로그 내 검색</a> <span class=\"bar\"></span> <a class=\"map_opn _bck_open_map _mapid-bl01115773609 _postId-90000003_0000000000000033A60701C8 _cr-a=blg_1st*i.area&amp;r=3&amp;i=90000003_0000000000000033A60701C8\" href=\"#\" onclick=\"return false;\">약도</a> </span> </dd> </dl> </li>\n\n\n<li class=\"sh_blog_top\" id=\"sp_blog_4\"> <div class=\"thumb\"> <a class=\"sp_thmb thmb80\" href=\"https://pururune.blog.me/221807228243\" onclick=\"return goOtherCR(this,'a=blg_1st*i.img&amp;r=4&amp;i=90000003_0000000000000033A4BDB553&amp;u='+urlencode(urlexpand(this.href)));\" target=\"_blank\"> <img alt=\"3월 제주도 가볼만한곳\" class=\"sh_blog_thumbnail\" height=\"82\" onerror=\"this.parentNode.parentNode.style.display='none';\" src=\"https://search.pstatic.net/common/?src=http%3A%2F%2Fblogfiles.naver.net%2FMjAyMDAyMTNfMTgg%2FMDAxNTgxNTI0MDAyMTU5.qX-paSp2jkilnolKi9N3YMP3jp63uNZdNohxH9Pw7nwg.l4Ja7TVZ5rXFKoNSXeuLB8TvsYKPF3RxoaIyC5ceTYcg.PNG.pururune%2F00.png%23966x972&amp;type=n82_82\" width=\"82\"/> <span class=\"thmb_v\"></span> <span class=\"thmb_bd\"></span> </a> </div> <dl> <dt> <a class=\"sh_blog_title _sp_each_url _sp_each_title\" href=\"https://pururune.blog.me/221807228243\" onclick=\"return goOtherCR(this,'a=blg_1st*i.tit&amp;r=4&amp;i=90000003_0000000000000033A4BDB553&amp;u='+urlencode(urlexpand(this.href)));\" target=\"_blank\" title=\"3월 제주도 가볼만한곳 휴애리 매화축제 제주 봄여행 여기로~\">3월 제주도 가볼만한곳 휴애리 매화축제 제주 <strong class=\"hl\">봄여행</strong> 여기로~</a> </dt> <dd class=\"txt_inline\">2020.02.13. </dd> <dd class=\"sh_blog_passage\">요맘대쯤 제주도 <strong class=\"hl\">봄여행</strong> 을 다녀왔는데요. 봄기운 가득했던 제주 에서의 일주일은... (제로고가 없는 사진은 올해 최근 사진이에요 :D) 사실 제주여행을 가면 저는...</dd> <dd class=\"txt_block\"> <span class=\"inline\"> <a class=\"txt84\" href=\"https://pururune.blog.me\" onclick=\"return goOtherCR(this,'a=blg_1st*i.blogname&amp;r=4&amp;i=90000003_0000000000000033A4BDB553&amp;u='+urlencode(urlexpand(this.href)));\" target=\"_blank\">다락방TV 맛있는 일상 여행...</a> <a class=\"url\" href=\"https://pururune.blog.me/221807228243\" onclick=\"return goOtherCR(this,'a=blg_1st*i.url&amp;r=4&amp;i=90000003_0000000000000033A4BDB553&amp;u='+urlencode(urlexpand(this.href)));\" target=\"_blank\">pururune.blog.me/221...</a> <span class=\"bar\"></span><a class=\"txt84\" href=\"?query=%EB%B4%84%EC%97%AC%ED%96%89&amp;where=post&amp;sm=tab_brs&amp;post_blogurl=pururune.blog.me\" onclick=\"return goOtherCR(this,'a=blg_1st*i.similar&amp;r=4&amp;i=90000003_0000000000000033A4BDB553&amp;u='+urlencode(urlexpand(this.href)));\">블로그 내 검색</a> <span class=\"bar\"></span> <a class=\"map_opn _bck_open_map _mapid-bl01113843220 _postId-90000003_0000000000000033A4BDB553 _cr-a=blg_1st*i.area&amp;r=4&amp;i=90000003_0000000000000033A4BDB553\" href=\"#\" onclick=\"return false;\">약도</a> </span> </dd> </dl> </li>\n\n\n"
     ],
     "output_type": "stream"
    }
   ],
   "source": [
    "# html = driver.page_source\n",
    "# soup = BeautifulSoup(html, 'html.parser')\n",
    "# content_list = soup.select('div.blog > ul > li')\n",
    "# orig_stdout = sys.stdout\n",
    "# f = open(f_name, 'a', encoding='UTf-8')\n",
    "# sys.stdout = f\n",
    "\n",
    "for i in content_list:\n",
    "    print(i)\n",
    "    # print(i.text.strip())\n",
    "    print('\\n')\n",
    "    \n",
    "# sys.stdout = orig_stdout\n",
    "# f.close()"
   ],
   "metadata": {
    "collapsed": false,
    "pycharm": {
     "name": "#%%\n",
     "is_executing": false
    }
   }
  },
  {
   "cell_type": "code",
   "execution_count": null,
   "outputs": [],
   "source": [],
   "metadata": {
    "collapsed": false,
    "pycharm": {
     "name": "#%%\n",
     "is_executing": false
    }
   }
  }
 ],
 "metadata": {
  "kernelspec": {
   "display_name": "Python 3",
   "language": "python",
   "name": "python3"
  },
  "language_info": {
   "codemirror_mode": {
    "name": "ipython",
    "version": 2
   },
   "file_extension": ".py",
   "mimetype": "text/x-python",
   "name": "python",
   "nbconvert_exporter": "python",
   "pygments_lexer": "ipython2",
   "version": "2.7.6"
  },
  "pycharm": {
   "stem_cell": {
    "cell_type": "raw",
    "source": [],
    "metadata": {
     "collapsed": false
    }
   }
  }
 },
 "nbformat": 4,
 "nbformat_minor": 0
}