{
 "cells": [
  {
   "cell_type": "markdown",
   "metadata": {
    "collapsed": true,
    "pycharm": {
     "name": "#%% md\n"
    }
   },
   "source": [
    "# chapter 01. 데이터에서 인사이트 발견하기\n",
    "## 1.1 탐색적 데이터 분석\n",
    "### 1.1.1 데이터와의 첫 만남\n",
    "1. 데이터의 출처와 주제\n",
    "1. 데이터의 크기\n",
    "1. 데이터의 구성 요소(피처: feature)\n",
    "\n",
    "### 1.1.2 데이터의 속성 탐색하기\n",
    "* 피처의 속성 탐색\n",
    "* 피처 간의 상관 관계 탐색\n",
    " \n",
    "#### 1.1.2.1 피처의 속성 탐색\n",
    "평균, 표준편차, 중앙값, 데이터의 사분위 수 등의 통계값  \n",
    "-> 피처의 측정 가능한 정량적 속성을 정의하는 것\n",
    "\n",
    "#### 1.1.2.2 피처간의 상관 관계 분석\n",
    "피처 간의 공분산, 혹은 상관 계수\n",
    "\n",
    "### 1.1.3 탐색한 데이터의 시각화\n",
    "matplotlib, seaborn 등을 활용하여 시각화"
   ]
  },
  {
   "cell_type": "markdown",
   "source": [
    "## 1.2 멕시코풍 프랜차이즈 chipotle의 주문 데이터 분석하기\n",
    "### Step1. 탐색: 데이터의 기초 정보 살펴보기\n",
    "> chipotle 데이터셋의 기초 정보 출력하기"
   ],
   "metadata": {
    "collapsed": false,
    "pycharm": {
     "name": "#%% md\n"
    }
   }
  },
  {
   "cell_type": "code",
   "execution_count": 2,
   "outputs": [
    {
     "name": "stdout",
     "text": [
      "(4622, 5)\n--------------------\n<class 'pandas.core.frame.DataFrame'>\nRangeIndex: 4622 entries, 0 to 4621\nData columns (total 5 columns):\n #   Column              Non-Null Count  Dtype \n---  ------              --------------  ----- \n 0   order_id            4622 non-null   int64 \n 1   quantity            4622 non-null   int64 \n 2   item_name           4622 non-null   object\n 3   choice_description  3376 non-null   object\n 4   item_price          4622 non-null   object\ndtypes: int64(2), object(3)\nmemory usage: 180.7+ KB\nNone\n"
     ],
     "output_type": "stream"
    }
   ],
   "source": [
    "import pandas as pd\n",
    "\n",
    "file_path = 'data/chipotle.tsv'\n",
    "# read_csv() 함수로 데이터를 데이터프레임 형태로 불러옵니다.\n",
    "chipo = pd.read_csv(file_path, sep='\\t')\n",
    "\n",
    "print(chipo.shape)\n",
    "print(\"-\" * 20)\n",
    "print(chipo.info())"
   ],
   "metadata": {
    "collapsed": false,
    "pycharm": {
     "name": "#%%\n",
     "is_executing": false
    }
   }
  },
  {
   "cell_type": "code",
   "execution_count": 3,
   "outputs": [
    {
     "data": {
      "text/plain": "   order_id  quantity                              item_name  \\\n0         1         1           Chips and Fresh Tomato Salsa   \n1         1         1                                   Izze   \n2         1         1                       Nantucket Nectar   \n3         1         1  Chips and Tomatillo-Green Chili Salsa   \n4         2         2                           Chicken Bowl   \n\n                                  choice_description item_price  \n0                                                NaN     $2.39   \n1                                       [Clementine]     $3.39   \n2                                            [Apple]     $3.39   \n3                                                NaN     $2.39   \n4  [Tomatillo-Red Chili Salsa (Hot), [Black Beans...    $16.98   ",
      "text/html": "<div>\n<style scoped>\n    .dataframe tbody tr th:only-of-type {\n        vertical-align: middle;\n    }\n\n    .dataframe tbody tr th {\n        vertical-align: top;\n    }\n\n    .dataframe thead th {\n        text-align: right;\n    }\n</style>\n<table border=\"1\" class=\"dataframe\">\n  <thead>\n    <tr style=\"text-align: right;\">\n      <th></th>\n      <th>order_id</th>\n      <th>quantity</th>\n      <th>item_name</th>\n      <th>choice_description</th>\n      <th>item_price</th>\n    </tr>\n  </thead>\n  <tbody>\n    <tr>\n      <th>0</th>\n      <td>1</td>\n      <td>1</td>\n      <td>Chips and Fresh Tomato Salsa</td>\n      <td>NaN</td>\n      <td>$2.39</td>\n    </tr>\n    <tr>\n      <th>1</th>\n      <td>1</td>\n      <td>1</td>\n      <td>Izze</td>\n      <td>[Clementine]</td>\n      <td>$3.39</td>\n    </tr>\n    <tr>\n      <th>2</th>\n      <td>1</td>\n      <td>1</td>\n      <td>Nantucket Nectar</td>\n      <td>[Apple]</td>\n      <td>$3.39</td>\n    </tr>\n    <tr>\n      <th>3</th>\n      <td>1</td>\n      <td>1</td>\n      <td>Chips and Tomatillo-Green Chili Salsa</td>\n      <td>NaN</td>\n      <td>$2.39</td>\n    </tr>\n    <tr>\n      <th>4</th>\n      <td>2</td>\n      <td>2</td>\n      <td>Chicken Bowl</td>\n      <td>[Tomatillo-Red Chili Salsa (Hot), [Black Beans...</td>\n      <td>$16.98</td>\n    </tr>\n  </tbody>\n</table>\n</div>"
     },
     "metadata": {},
     "output_type": "execute_result",
     "execution_count": 3
    }
   ],
   "source": [
    "chipo.head()"
   ],
   "metadata": {
    "collapsed": false,
    "pycharm": {
     "name": "#%%\n",
     "is_executing": false
    }
   }
  },
  {
   "cell_type": "code",
   "execution_count": 4,
   "outputs": [
    {
     "data": {
      "text/plain": "          order_id     quantity\ncount  4622.000000  4622.000000\nmean    927.254868     1.075725\nstd     528.890796     0.410186\nmin       1.000000     1.000000\n25%     477.250000     1.000000\n50%     926.000000     1.000000\n75%    1393.000000     1.000000\nmax    1834.000000    15.000000",
      "text/html": "<div>\n<style scoped>\n    .dataframe tbody tr th:only-of-type {\n        vertical-align: middle;\n    }\n\n    .dataframe tbody tr th {\n        vertical-align: top;\n    }\n\n    .dataframe thead th {\n        text-align: right;\n    }\n</style>\n<table border=\"1\" class=\"dataframe\">\n  <thead>\n    <tr style=\"text-align: right;\">\n      <th></th>\n      <th>order_id</th>\n      <th>quantity</th>\n    </tr>\n  </thead>\n  <tbody>\n    <tr>\n      <th>count</th>\n      <td>4622.000000</td>\n      <td>4622.000000</td>\n    </tr>\n    <tr>\n      <th>mean</th>\n      <td>927.254868</td>\n      <td>1.075725</td>\n    </tr>\n    <tr>\n      <th>std</th>\n      <td>528.890796</td>\n      <td>0.410186</td>\n    </tr>\n    <tr>\n      <th>min</th>\n      <td>1.000000</td>\n      <td>1.000000</td>\n    </tr>\n    <tr>\n      <th>25%</th>\n      <td>477.250000</td>\n      <td>1.000000</td>\n    </tr>\n    <tr>\n      <th>50%</th>\n      <td>926.000000</td>\n      <td>1.000000</td>\n    </tr>\n    <tr>\n      <th>75%</th>\n      <td>1393.000000</td>\n      <td>1.000000</td>\n    </tr>\n    <tr>\n      <th>max</th>\n      <td>1834.000000</td>\n      <td>15.000000</td>\n    </tr>\n  </tbody>\n</table>\n</div>"
     },
     "metadata": {},
     "output_type": "execute_result",
     "execution_count": 4
    }
   ],
   "source": [
    "chipo.describe()"
   ],
   "metadata": {
    "collapsed": false,
    "pycharm": {
     "name": "#%%\n",
     "is_executing": false
    }
   }
  },
  {
   "cell_type": "code",
   "execution_count": 5,
   "outputs": [
    {
     "name": "stdout",
     "text": [
      "Index(['order_id', 'quantity', 'item_name', 'choice_description',\n       'item_price'],\n      dtype='object')\n------------------------------\nRangeIndex(start=0, stop=4622, step=1)\n"
     ],
     "output_type": "stream"
    }
   ],
   "source": [
    "print(chipo.columns)\n",
    "print(\"-\"*30)\n",
    "print(chipo.index)"
   ],
   "metadata": {
    "collapsed": false,
    "pycharm": {
     "name": "#%%\n",
     "is_executing": false
    }
   }
  },
  {
   "cell_type": "code",
   "execution_count": 6,
   "outputs": [
    {
     "name": "stdout",
     "text": [
      "          quantity\ncount  4622.000000\nmean      1.075725\nstd       0.410186\nmin       1.000000\n25%       1.000000\n50%       1.000000\n75%       1.000000\nmax      15.000000\n"
     ],
     "output_type": "stream"
    }
   ],
   "source": [
    "# order_id는 숫자의 의미를 가지지 않기 때문에 문자열(str)로 변경\n",
    "chipo['order_id'] = chipo['order_id'].astype(str)\n",
    "print(chipo.describe()) # 통계 정보 확인"
   ],
   "metadata": {
    "collapsed": false,
    "pycharm": {
     "name": "#%%\n",
     "is_executing": false
    }
   }
  },
  {
   "cell_type": "markdown",
   "source": [
    "#### order_id와 item_name의 개수\n",
    "이 두 피처는 범주형 피처이므로 unique() 함수를 사용하여 몇개의 범주를 가지고 있는지 확인한다."
   ],
   "metadata": {
    "collapsed": false,
    "pycharm": {
     "name": "#%% md\n"
    }
   }
  },
  {
   "cell_type": "code",
   "execution_count": 7,
   "outputs": [
    {
     "name": "stdout",
     "text": [
      "1834\n50\n"
     ],
     "output_type": "stream"
    }
   ],
   "source": [
    "print(len(chipo['order_id'].unique()))\n",
    "print(len(chipo['item_name'].unique()))"
   ],
   "metadata": {
    "collapsed": false,
    "pycharm": {
     "name": "#%%\n",
     "is_executing": false
    }
   }
  },
  {
   "cell_type": "markdown",
   "source": [
    "### Step2. 인사이트의 발견: 탐색과 시각화 하기\n",
    "#### 가장 많이 주문한 아이템 Top 10"
   ],
   "metadata": {
    "collapsed": false,
    "pycharm": {
     "name": "#%% md\n"
    }
   }
  },
  {
   "cell_type": "code",
   "execution_count": 8,
   "outputs": [
    {
     "name": "stdout",
     "text": [
      "Top 1 : Chicken Bowl 726\nTop 2 : Chicken Burrito 553\nTop 3 : Chips and Guacamole 479\nTop 4 : Steak Burrito 368\nTop 5 : Canned Soft Drink 301\nTop 6 : Chips 211\nTop 7 : Steak Bowl 211\nTop 8 : Bottled Water 162\nTop 9 : Chicken Soft Tacos 115\nTop 10 : Chips and Fresh Tomato Salsa 110\n"
     ],
     "output_type": "stream"
    }
   ],
   "source": [
    "# 가장 많이 주문한 아이템 Top 10 을 출력합니다.\n",
    "item_count = chipo['item_name'].value_counts()[:10]\n",
    "for idx, (val, cnt) in enumerate(item_count.iteritems(), 1):\n",
    "    print(\"Top\", idx, \":\", val, cnt)"
   ],
   "metadata": {
    "collapsed": false,
    "pycharm": {
     "name": "#%%\n",
     "is_executing": false
    }
   }
  },
  {
   "cell_type": "markdown",
   "source": [
    "#### 아이템별 주문 개수와 총량"
   ],
   "metadata": {
    "collapsed": false,
    "pycharm": {
     "name": "#%% md\n"
    }
   }
  },
  {
   "cell_type": "code",
   "execution_count": 12,
   "outputs": [
    {
     "data": {
      "text/plain": "item_name\n6 Pack Soft Drink         54\nBarbacoa Bowl             66\nBarbacoa Burrito          91\nBarbacoa Crispy Tacos     11\nBarbacoa Salad Bowl       10\nBarbacoa Soft Tacos       25\nBottled Water            162\nBowl                       2\nBurrito                    6\nCanned Soda              104\nName: order_id, dtype: int64"
     },
     "metadata": {},
     "output_type": "execute_result",
     "execution_count": 12
    }
   ],
   "source": [
    "# 아이템별 주문 개수 구하기\n",
    "order_count = chipo.groupby('item_name')['order_id'].count()\n",
    "order_count[:10] # 아이템 별 주문 개수를 출력"
   ],
   "metadata": {
    "collapsed": false,
    "pycharm": {
     "name": "#%%\n",
     "is_executing": false
    }
   }
  },
  {
   "cell_type": "code",
   "execution_count": 13,
   "outputs": [
    {
     "data": {
      "text/plain": "item_name\n6 Pack Soft Drink         55\nBarbacoa Bowl             66\nBarbacoa Burrito          91\nBarbacoa Crispy Tacos     12\nBarbacoa Salad Bowl       10\nBarbacoa Soft Tacos       25\nBottled Water            211\nBowl                       4\nBurrito                    6\nCanned Soda              126\nName: quantity, dtype: int64"
     },
     "metadata": {},
     "output_type": "execute_result",
     "execution_count": 13
    }
   ],
   "source": [
    "# 아이템별 주문 총량 구하기\n",
    "item_quantity = chipo.groupby('item_name')['quantity'].sum()\n",
    "item_quantity[:10]"
   ],
   "metadata": {
    "collapsed": false,
    "pycharm": {
     "name": "#%%\n",
     "is_executing": false
    }
   }
  },
  {
   "cell_type": "markdown",
   "source": [
    "#### 시각화\n",
    "> 시각화로 분석 결과 살펴보기"
   ],
   "metadata": {
    "collapsed": false,
    "pycharm": {
     "name": "#%% md\n"
    }
   }
  },
  {
   "cell_type": "code",
   "execution_count": 14,
   "outputs": [
    {
     "data": {
      "text/plain": "<Figure size 432x288 with 1 Axes>",
      "image/png": "[encoded data removed]"
     },
     "metadata": {
      "needs_background": "light"
     },
     "output_type": "display_data"
    }
   ],
   "source": [
    "%matplotlib inline\n",
    "import numpy as np\n",
    "import matplotlib.pyplot as plt\n",
    "\n",
    "item_name_list = item_quantity.index.tolist()\n",
    "x_pos = np.arange(len(item_name_list)) # 이름을 그대로 출력할 수 없어서, 0~아이템 숫자 로 표현\n",
    "order_cnt = item_quantity.values.tolist()\n",
    "\n",
    "plt.bar(x_pos, order_cnt, align='center')\n",
    "plt.ylabel('ordered_item_count')\n",
    "plt.title('Distribution of all ordered item')\n",
    "\n",
    "plt.show()"
   ],
   "metadata": {
    "collapsed": false,
    "pycharm": {
     "name": "#%%\n",
     "is_executing": false
    }
   }
  },
  {
   "cell_type": "markdown",
   "source": [
    "### Step3. 데이터 전처리: 전처리 함수 사용하기\n",
    "> item_price 피처 살펴보기"
   ],
   "metadata": {
    "collapsed": false,
    "pycharm": {
     "name": "#%% md\n"
    }
   }
  },
  {
   "cell_type": "code",
   "execution_count": 15,
   "outputs": [
    {
     "name": "stdout",
     "text": [
      "<class 'pandas.core.frame.DataFrame'>\nRangeIndex: 4622 entries, 0 to 4621\nData columns (total 5 columns):\n #   Column              Non-Null Count  Dtype \n---  ------              --------------  ----- \n 0   order_id            4622 non-null   object\n 1   quantity            4622 non-null   int64 \n 2   item_name           4622 non-null   object\n 3   choice_description  3376 non-null   object\n 4   item_price          4622 non-null   object\ndtypes: int64(1), object(4)\nmemory usage: 180.7+ KB\nNone\n******************************\n0     $2.39 \n1     $3.39 \n2     $3.39 \n3     $2.39 \n4    $16.98 \nName: item_price, dtype: object\n"
     ],
     "output_type": "stream"
    }
   ],
   "source": [
    "print(chipo.info())\n",
    "print('*'*30)\n",
    "print(chipo['item_price'].head())"
   ],
   "metadata": {
    "collapsed": false,
    "pycharm": {
     "name": "#%%\n",
     "is_executing": false
    }
   }
  },
  {
   "cell_type": "code",
   "execution_count": 16,
   "outputs": [
    {
     "data": {
      "text/plain": "          quantity   item_price\ncount  4622.000000  4622.000000\nmean      1.075725     7.464336\nstd       0.410186     4.245557\nmin       1.000000     1.090000\n25%       1.000000     3.390000\n50%       1.000000     8.750000\n75%       1.000000     9.250000\nmax      15.000000    44.250000",
      "text/html": "<div>\n<style scoped>\n    .dataframe tbody tr th:only-of-type {\n        vertical-align: middle;\n    }\n\n    .dataframe tbody tr th {\n        vertical-align: top;\n    }\n\n    .dataframe thead th {\n        text-align: right;\n    }\n</style>\n<table border=\"1\" class=\"dataframe\">\n  <thead>\n    <tr style=\"text-align: right;\">\n      <th></th>\n      <th>quantity</th>\n      <th>item_price</th>\n    </tr>\n  </thead>\n  <tbody>\n    <tr>\n      <th>count</th>\n      <td>4622.000000</td>\n      <td>4622.000000</td>\n    </tr>\n    <tr>\n      <th>mean</th>\n      <td>1.075725</td>\n      <td>7.464336</td>\n    </tr>\n    <tr>\n      <th>std</th>\n      <td>0.410186</td>\n      <td>4.245557</td>\n    </tr>\n    <tr>\n      <th>min</th>\n      <td>1.000000</td>\n      <td>1.090000</td>\n    </tr>\n    <tr>\n      <th>25%</th>\n      <td>1.000000</td>\n      <td>3.390000</td>\n    </tr>\n    <tr>\n      <th>50%</th>\n      <td>1.000000</td>\n      <td>8.750000</td>\n    </tr>\n    <tr>\n      <th>75%</th>\n      <td>1.000000</td>\n      <td>9.250000</td>\n    </tr>\n    <tr>\n      <th>max</th>\n      <td>15.000000</td>\n      <td>44.250000</td>\n    </tr>\n  </tbody>\n</table>\n</div>"
     },
     "metadata": {},
     "output_type": "execute_result",
     "execution_count": 16
    }
   ],
   "source": [
    "# column 단위 데이터에 apply 함수로 전처리를 적용합니다.\n",
    "chipo['item_price'] = chipo['item_price'].apply(lambda x: float(x[1:]))\n",
    "chipo.describe()"
   ],
   "metadata": {
    "collapsed": false,
    "pycharm": {
     "name": "#%%\n",
     "is_executing": false
    }
   }
  },
  {
   "cell_type": "markdown",
   "source": [
    "### Step 4. 탐색적 분석: 스무고개로 개념적 탐색 분석하기\n",
    "#### 주문당 평균 계산금액 출력하기\n",
    "> 주문당 평균 계산 금액을 출력합니다."
   ],
   "metadata": {
    "collapsed": false,
    "pycharm": {
     "name": "#%% md\n"
    }
   }
  },
  {
   "cell_type": "code",
   "execution_count": 17,
   "outputs": [
    {
     "data": {
      "text/plain": "18.811428571428568"
     },
     "metadata": {},
     "output_type": "execute_result",
     "execution_count": 17
    }
   ],
   "source": [
    "chipo.groupby('order_id')['item_price'].sum().mean()\n"
   ],
   "metadata": {
    "collapsed": false,
    "pycharm": {
     "name": "#%%\n",
     "is_executing": false
    }
   }
  },
  {
   "cell_type": "markdown",
   "source": [
    "#### 한 주문에 10달러 이상 지불한 주문 번호(id) 출력하기"
   ],
   "metadata": {
    "collapsed": false,
    "pycharm": {
     "name": "#%% md\n"
    }
   }
  },
  {
   "cell_type": "code",
   "execution_count": 19,
   "outputs": [
    {
     "data": {
      "text/plain": "          quantity  item_price\norder_id                      \n1                4       11.56\n10               2       13.20\n100              2       10.08\n1000             2       20.50\n1001             2       10.08\n...            ...         ...\n995              3       24.95\n996              4       43.00\n997              2       22.50\n998              2       10.88\n999              5       29.25\n\n[1834 rows x 2 columns]",
      "text/html": "<div>\n<style scoped>\n    .dataframe tbody tr th:only-of-type {\n        vertical-align: middle;\n    }\n\n    .dataframe tbody tr th {\n        vertical-align: top;\n    }\n\n    .dataframe thead th {\n        text-align: right;\n    }\n</style>\n<table border=\"1\" class=\"dataframe\">\n  <thead>\n    <tr style=\"text-align: right;\">\n      <th></th>\n      <th>quantity</th>\n      <th>item_price</th>\n    </tr>\n    <tr>\n      <th>order_id</th>\n      <th></th>\n      <th></th>\n    </tr>\n  </thead>\n  <tbody>\n    <tr>\n      <th>1</th>\n      <td>4</td>\n      <td>11.56</td>\n    </tr>\n    <tr>\n      <th>10</th>\n      <td>2</td>\n      <td>13.20</td>\n    </tr>\n    <tr>\n      <th>100</th>\n      <td>2</td>\n      <td>10.08</td>\n    </tr>\n    <tr>\n      <th>1000</th>\n      <td>2</td>\n      <td>20.50</td>\n    </tr>\n    <tr>\n      <th>1001</th>\n      <td>2</td>\n      <td>10.08</td>\n    </tr>\n    <tr>\n      <th>...</th>\n      <td>...</td>\n      <td>...</td>\n    </tr>\n    <tr>\n      <th>995</th>\n      <td>3</td>\n      <td>24.95</td>\n    </tr>\n    <tr>\n      <th>996</th>\n      <td>4</td>\n      <td>43.00</td>\n    </tr>\n    <tr>\n      <th>997</th>\n      <td>2</td>\n      <td>22.50</td>\n    </tr>\n    <tr>\n      <th>998</th>\n      <td>2</td>\n      <td>10.88</td>\n    </tr>\n    <tr>\n      <th>999</th>\n      <td>5</td>\n      <td>29.25</td>\n    </tr>\n  </tbody>\n</table>\n<p>1834 rows × 2 columns</p>\n</div>"
     },
     "metadata": {},
     "output_type": "execute_result",
     "execution_count": 19
    }
   ],
   "source": [
    "chipo_orderid_group = chipo.groupby('order_id').sum()\n",
    "chipo_orderid_group"
   ],
   "metadata": {
    "collapsed": false,
    "pycharm": {
     "name": "#%%\n",
     "is_executing": false
    }
   }
  },
  {
   "cell_type": "code",
   "execution_count": null,
   "outputs": [],
   "source": [
    "\n"
   ],
   "metadata": {
    "collapsed": false,
    "pycharm": {
     "name": "#%%\n"
    }
   }
  }
 ],
 "metadata": {
  "kernelspec": {
   "display_name": "Python 3",
   "language": "python",
   "name": "python3"
  },
  "language_info": {
   "codemirror_mode": {
    "name": "ipython",
    "version": 2
   },
   "file_extension": ".py",
   "mimetype": "text/x-python",
   "name": "python",
   "nbconvert_exporter": "python",
   "pygments_lexer": "ipython2",
   "version": "2.7.6"
  },
  "pycharm": {
   "stem_cell": {
    "cell_type": "raw",
    "source": [],
    "metadata": {
     "collapsed": false
    }
   }
  }
 },
 "nbformat": 4,
 "nbformat_minor": 0
}